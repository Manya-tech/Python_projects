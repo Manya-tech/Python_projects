{
 "cells": [
  {
   "cell_type": "code",
   "execution_count": 1,
   "metadata": {},
   "outputs": [
    {
     "name": "stdout",
     "output_type": "stream",
     "text": [
      "4\n",
      "UL\n",
      "UL\n",
      "UL\n",
      "L\n"
     ]
    }
   ],
   "source": [
    "def MinSteps(SourceX, SourceY, DestX, DestY):\n",
    "\tprint(max(abs(SourceX - DestX), abs(SourceY - DestY)))\n",
    "\n",
    "\twhile ((SourceX != DestX) or (SourceY != DestY)):\n",
    "\t\tif (SourceX < DestX):\n",
    "\t\t\tprint('U',end = \"\")\n",
    "\t\t\tSourceX += 1\n",
    "\n",
    "\t\tif (SourceX > DestX):\n",
    "\t\t\tprint('D',end = \"\")\n",
    "\t\t\tSourceX -= 1\n",
    "\t\t\n",
    "\t\tif (SourceY > DestY):\n",
    "\t\t\tprint('L')\n",
    "\t\t\tSourceY -= 1\n",
    "\t\t\n",
    "\t\tif (SourceY < DestY):\n",
    "\t\t\tprint('R',end = \"\")\n",
    "\t\t\tSourceY += 1\n",
    "\t\t\n",
    "\n",
    "def main():\n",
    "\tsourceX = 4\n",
    "\tsourceY = 4\n",
    "\tdestinationX = 7\n",
    "\tdestinationY = 0\n",
    "\n",
    "\tMinSteps(sourceX, sourceY, destinationX, destinationY)\n",
    "main()"
   ]
  }
 ],
 "metadata": {
  "kernelspec": {
   "display_name": "myenv",
   "language": "python",
   "name": "python3"
  },
  "language_info": {
   "codemirror_mode": {
    "name": "ipython",
    "version": 3
   },
   "file_extension": ".py",
   "mimetype": "text/x-python",
   "name": "python",
   "nbconvert_exporter": "python",
   "pygments_lexer": "ipython3",
   "version": "3.9.13 (main, Aug 25 2022, 23:51:50) [MSC v.1916 64 bit (AMD64)]"
  },
  "orig_nbformat": 4,
  "vscode": {
   "interpreter": {
    "hash": "84a07b62446d831855704e84510bdce056f4e6fbd801b5694816b69894881978"
   }
  }
 },
 "nbformat": 4,
 "nbformat_minor": 2
}
