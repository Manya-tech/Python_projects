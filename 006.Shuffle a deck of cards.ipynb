{
 "cells": [
  {
   "cell_type": "code",
   "execution_count": 1,
   "metadata": {},
   "outputs": [
    {
     "name": "stdout",
     "output_type": "stream",
     "text": [
      "[17, 28, 5, 4, 50, 3, 36, 31, 0, 19, 18, 9, 38, 8, 34, 41, 39, 44, 25, 6, 51, 42, 2, 22, 43, 46, 35, 23, 37, 30, 10, 49, 12, 21, 14, 24, 47, 15, 29, 20, 33, 1, 11, 7, 40, 32, 26, 48, 16, 13, 27, 45]\n"
     ]
    }
   ],
   "source": [
    "import random\n",
    "def shuffle(card,n) :\n",
    "\t\n",
    "\tfor i in range(n):\n",
    "\t\t\n",
    "\t\tr = i + (random.randint(0,55) % (52 -i))\n",
    "\t\ttmp=card[i]\n",
    "\t\tcard[i]=card[r]\n",
    "\t\tcard[r]=tmp\n",
    "\n",
    "def main():\n",
    "\ta=[0, 1, 2, 3, 4, 5, 6, 7, 8,\n",
    "\t9, 10, 11, 12, 13, 14, 15,\n",
    "\t16, 17, 18, 19, 20, 21, 22,\n",
    "\t23, 24, 25, 26, 27, 28, 29,\n",
    "\t30, 31, 32, 33, 34, 35, 36,\n",
    "\t37, 38, 39, 40, 41, 42, 43,\n",
    "\t44, 45, 46, 47, 48, 49, 50,\n",
    "\t51]\n",
    "\tshuffle(a,52)\n",
    "\tprint(a)\n",
    "\t\t\n",
    "main()"
   ]
  }
 ],
 "metadata": {
  "kernelspec": {
   "display_name": "myenv",
   "language": "python",
   "name": "python3"
  },
  "language_info": {
   "codemirror_mode": {
    "name": "ipython",
    "version": 3
   },
   "file_extension": ".py",
   "mimetype": "text/x-python",
   "name": "python",
   "nbconvert_exporter": "python",
   "pygments_lexer": "ipython3",
   "version": "3.9.13 (main, Aug 25 2022, 23:51:50) [MSC v.1916 64 bit (AMD64)]"
  },
  "orig_nbformat": 4,
  "vscode": {
   "interpreter": {
    "hash": "84a07b62446d831855704e84510bdce056f4e6fbd801b5694816b69894881978"
   }
  }
 },
 "nbformat": 4,
 "nbformat_minor": 2
}
